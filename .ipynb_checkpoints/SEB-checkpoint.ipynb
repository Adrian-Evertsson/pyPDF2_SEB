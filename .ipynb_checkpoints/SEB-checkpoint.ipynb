{
 "cells": [
  {
   "cell_type": "code",
   "execution_count": 3,
   "id": "e416e403-98f7-42b9-b628-85f982e3f5a2",
   "metadata": {},
   "outputs": [],
   "source": [
    "import pandas as pd\n",
    "import PyPDF2"
   ]
  },
  {
   "cell_type": "code",
   "execution_count": 4,
   "id": "d90c07f5-c768-4405-9eb1-9a55047fbbc3",
   "metadata": {},
   "outputs": [
    {
     "data": {
      "text/plain": [
       "'/Users/adrianevertsson/Documents/python/annualReports'"
      ]
     },
     "execution_count": 4,
     "metadata": {},
     "output_type": "execute_result"
    }
   ],
   "source": [
    "pwd"
   ]
  },
  {
   "cell_type": "code",
   "execution_count": 6,
   "id": "af76dda6-e7cc-46a5-b3ad-d20456a2be35",
   "metadata": {},
   "outputs": [],
   "source": [
    "# Notice we read it as a binary with 'rb'\n",
    "f = open('SEBarsredovisning2022.pdf','rb')"
   ]
  },
  {
   "cell_type": "code",
   "execution_count": 38,
   "id": "1c8ec8ad-55e5-4df4-9224-1070e730eb66",
   "metadata": {},
   "outputs": [],
   "source": [
    "f.close()"
   ]
  },
  {
   "cell_type": "code",
   "execution_count": 8,
   "id": "6afba02a-bf61-4aeb-a02d-d6e05d64ca8d",
   "metadata": {},
   "outputs": [],
   "source": [
    "pdf_reader = PyPDF2.PdfReader(f)"
   ]
  },
  {
   "cell_type": "code",
   "execution_count": 12,
   "id": "399260bb-380b-4ed8-be19-9dbdab5560ed",
   "metadata": {},
   "outputs": [
    {
     "data": {
      "text/plain": [
       "240"
      ]
     },
     "execution_count": 12,
     "metadata": {},
     "output_type": "execute_result"
    }
   ],
   "source": [
    "len(pdf_reader.pages)"
   ]
  },
  {
   "cell_type": "code",
   "execution_count": 23,
   "id": "836dd998-3ba4-4e38-9949-847db72f8a9f",
   "metadata": {},
   "outputs": [],
   "source": [
    "page112 = pdf_reader.pages[112]"
   ]
  },
  {
   "cell_type": "code",
   "execution_count": 24,
   "id": "cfb6ac91-9f8c-4d6b-9b2d-f50c13683eaa",
   "metadata": {},
   "outputs": [],
   "source": [
    "page112_text = page112.extract_text()"
   ]
  },
  {
   "cell_type": "code",
   "execution_count": 25,
   "id": "9a24d02f-22c2-46af-a895-f2bba41dd862",
   "metadata": {},
   "outputs": [
    {
     "data": {
      "text/plain": [
       "'111 — SEB Års- och Hållbarhetsredovisning 2022Finansiella rapporter  — Resultaträkning\\nResultaträkning\\nSEB-koncernen\\nMkr Not 2022 2021\\nRänteintäkter1)56 150 31 383\\nRäntekostnader2)–22 707 –5 286\\nRäntenetto 4 33 443 26 097\\nProvisionsintäkter 27 637 26 129\\nProvisionskostnader –6 064 –4 987\\nProvisionsnetto 5 21 573 21 142\\nNettoresultat av finansiella transaktioner 6 9 314 8 235\\nÖvriga intäkter , netto 7 258 164\\nSumma rörelseintäkter 64 589 55 638\\nPersonalkostnader 8 –15 980 –15 372\\nÖvriga kostnader 9 –6 986 –5 763\\nAv- och nedskrivningar av materiella och immateriella tillgångar 10 –2 078 –2 110\\nSumma rörelsekostnader –25 044 –23 245\\nResultat före kreditförluster och påförda avgifter 39 544 32 393\\nFörväntade kreditförluster , netto 11 –2 007 –510\\nPåförda avgifter: riskskatt och resolutionsavgifter 12 –2 288 –1 019\\nRörelseresultat före jämförelsestörande poster 35 249 30 864\\nJämförelsestörande poster 13 –1 399\\nRörelseresultat 33 850 30 864\\nSkatt 15 –6 861 –5 441\\nNETTORESULTAT 26 989 25 423\\nAktieägarna i Skandinaviska Enskilda Banken AB (publ) andel 26 989 25 423\\nNettoresultat per aktie före utspädning, kr 16 12:63 11:75\\nNettoresultat per aktie efter utspädning, kr 16 12:53 11:67\\n1) Varav ränteintäkter beräknade enligt effektivräntemetoden 50 224 Mkr (27 752).\\n2) Varav räntekostnader beräknade enligt effektivräntemetoden 26 864 Mkr (5 675).\\nJämförelsetalen för 2021 har omräknats. Se not 50 om omräknade jämförelsetal för mer information.'"
      ]
     },
     "execution_count": 25,
     "metadata": {},
     "output_type": "execute_result"
    }
   ],
   "source": [
    "page112_text"
   ]
  },
  {
   "cell_type": "code",
   "execution_count": 29,
   "id": "1215cc5c-be1a-4847-b2a6-42933bdf5ce3",
   "metadata": {},
   "outputs": [],
   "source": [
    "pdf_text = []\n",
    "\n",
    "for p in range(len(pdf_reader.pages)):\n",
    "    \n",
    "    page = pdf_reader.pages[p]\n",
    "    \n",
    "    pdf_text.append(page.extract_text())"
   ]
  },
  {
   "cell_type": "code",
   "execution_count": 42,
   "id": "089e6836-98a1-437a-8174-8336ff0918e6",
   "metadata": {},
   "outputs": [
    {
     "data": {
      "text/plain": [
       "'111 — SEB Års- och Hållbarhetsredovisning 2022Finansiella rapporter  — Resultaträkning\\nResultaträkning\\nSEB-koncernen\\nMkr Not 2022 2021\\nRänteintäkter1)56 150 31 383\\nRäntekostnader2)–22 707 –5 286\\nRäntenetto 4 33 443 26 097\\nProvisionsintäkter 27 637 26 129\\nProvisionskostnader –6 064 –4 987\\nProvisionsnetto 5 21 573 21 142\\nNettoresultat av finansiella transaktioner 6 9 314 8 235\\nÖvriga intäkter , netto 7 258 164\\nSumma rörelseintäkter 64 589 55 638\\nPersonalkostnader 8 –15 980 –15 372\\nÖvriga kostnader 9 –6 986 –5 763\\nAv- och nedskrivningar av materiella och immateriella tillgångar 10 –2 078 –2 110\\nSumma rörelsekostnader –25 044 –23 245\\nResultat före kreditförluster och påförda avgifter 39 544 32 393\\nFörväntade kreditförluster , netto 11 –2 007 –510\\nPåförda avgifter: riskskatt och resolutionsavgifter 12 –2 288 –1 019\\nRörelseresultat före jämförelsestörande poster 35 249 30 864\\nJämförelsestörande poster 13 –1 399\\nRörelseresultat 33 850 30 864\\nSkatt 15 –6 861 –5 441\\nNETTORESULTAT 26 989 25 423\\nAktieägarna i Skandinaviska Enskilda Banken AB (publ) andel 26 989 25 423\\nNettoresultat per aktie före utspädning, kr 16 12:63 11:75\\nNettoresultat per aktie efter utspädning, kr 16 12:53 11:67\\n1) Varav ränteintäkter beräknade enligt effektivräntemetoden 50 224 Mkr (27 752).\\n2) Varav räntekostnader beräknade enligt effektivräntemetoden 26 864 Mkr (5 675).\\nJämförelsetalen för 2021 har omräknats. Se not 50 om omräknade jämförelsetal för mer information.'"
      ]
     },
     "execution_count": 42,
     "metadata": {},
     "output_type": "execute_result"
    }
   ],
   "source": [
    "pdf_text[112]"
   ]
  },
  {
   "cell_type": "code",
   "execution_count": 44,
   "id": "071d435a-3456-4cca-a472-12636035df20",
   "metadata": {},
   "outputs": [
    {
     "name": "stdout",
     "output_type": "stream",
     "text": [
      "111 — SEB Års- och Hållbarhetsredovisning 2022Finansiella rapporter  — Resultaträkning\n",
      "Resultaträkning\n",
      "SEB-koncernen\n",
      "Mkr Not 2022 2021\n",
      "Ränteintäkter1)56 150 31 383\n",
      "Räntekostnader2)–22 707 –5 286\n",
      "Räntenetto 4 33 443 26 097\n",
      "Provisionsintäkter 27 637 26 129\n",
      "Provisionskostnader –6 064 –4 987\n",
      "Provisionsnetto 5 21 573 21 142\n",
      "Nettoresultat av finansiella transaktioner 6 9 314 8 235\n",
      "Övriga intäkter , netto 7 258 164\n",
      "Summa rörelseintäkter 64 589 55 638\n",
      "Personalkostnader 8 –15 980 –15 372\n",
      "Övriga kostnader 9 –6 986 –5 763\n",
      "Av- och nedskrivningar av materiella och immateriella tillgångar 10 –2 078 –2 110\n",
      "Summa rörelsekostnader –25 044 –23 245\n",
      "Resultat före kreditförluster och påförda avgifter 39 544 32 393\n",
      "Förväntade kreditförluster , netto 11 –2 007 –510\n",
      "Påförda avgifter: riskskatt och resolutionsavgifter 12 –2 288 –1 019\n",
      "Rörelseresultat före jämförelsestörande poster 35 249 30 864\n",
      "Jämförelsestörande poster 13 –1 399\n",
      "Rörelseresultat 33 850 30 864\n",
      "Skatt 15 –6 861 –5 441\n",
      "NETTORESULTAT 26 989 25 423\n",
      "Aktieägarna i Skandinaviska Enskilda Banken AB (publ) andel 26 989 25 423\n",
      "Nettoresultat per aktie före utspädning, kr 16 12:63 11:75\n",
      "Nettoresultat per aktie efter utspädning, kr 16 12:53 11:67\n",
      "1) Varav ränteintäkter beräknade enligt effektivräntemetoden 50 224 Mkr (27 752).\n",
      "2) Varav räntekostnader beräknade enligt effektivräntemetoden 26 864 Mkr (5 675).\n",
      "Jämförelsetalen för 2021 har omräknats. Se not 50 om omräknade jämförelsetal för mer information.\n"
     ]
    }
   ],
   "source": [
    "print(pdf_text[112])"
   ]
  },
  {
   "cell_type": "code",
   "execution_count": 45,
   "id": "ee51f117-d236-403c-b26f-8378491af86f",
   "metadata": {},
   "outputs": [
    {
     "data": {
      "text/plain": [
       "949"
      ]
     },
     "execution_count": 45,
     "metadata": {},
     "output_type": "execute_result"
    }
   ],
   "source": [
    "pdf_text[112].find(\"Skatt\")"
   ]
  },
  {
   "cell_type": "code",
   "execution_count": 46,
   "id": "2f70b721-250c-4031-9fe2-790b8b7ae70d",
   "metadata": {},
   "outputs": [
    {
     "data": {
      "text/plain": [
       "True"
      ]
     },
     "execution_count": 46,
     "metadata": {},
     "output_type": "execute_result"
    }
   ],
   "source": [
    "\"skatt\" in pdf_text[112]"
   ]
  },
  {
   "cell_type": "code",
   "execution_count": 59,
   "id": "4541739d-636d-4327-93a3-c8e7cdbb7768",
   "metadata": {},
   "outputs": [
    {
     "name": "stdout",
     "output_type": "stream",
     "text": [
      "Substring 'sample' found: True\n"
     ]
    }
   ],
   "source": [
    "def search_substring(string, substring):\n",
    "    \"\"\"\n",
    "    Searches for a substring within another string.\n",
    "    \n",
    "    :param string: The string to search within\n",
    "    :param substring: The substring to search for\n",
    "    :return: True if the substring is found, False otherwise\n",
    "    \"\"\"\n",
    "    if substring in string:\n",
    "        return True\n",
    "    else:\n",
    "        return False\n",
    "\n",
    "# Example usage\n",
    "string = \"Hello, this is a sample text.\"\n",
    "substring = \"sample\"\n",
    "\n",
    "found = search_substring(string, substring)\n",
    "print(f\"Substring '{substring}' found: {found}\")"
   ]
  },
  {
   "cell_type": "code",
   "execution_count": 65,
   "id": "35fd95b2-f83b-4294-ae2b-08fb815aeeab",
   "metadata": {},
   "outputs": [],
   "source": [
    "string = pdf_text[112]\n",
    "substring = \"NETTORESULTAT\""
   ]
  },
  {
   "cell_type": "code",
   "execution_count": 62,
   "id": "a3331df1-9921-40ee-86e2-96bf3f8241fc",
   "metadata": {},
   "outputs": [
    {
     "data": {
      "text/plain": [
       "972"
      ]
     },
     "execution_count": 62,
     "metadata": {},
     "output_type": "execute_result"
    }
   ],
   "source": [
    "string.index(substring)"
   ]
  },
  {
   "cell_type": "code",
   "execution_count": 66,
   "id": "f6b7a138-945c-4856-ad22-6b5e683ff625",
   "metadata": {},
   "outputs": [],
   "source": [
    "def return_substring(string, substring, numberOfCharacters):\n",
    "    \"\"\"\n",
    "    Searches for a substring within another string and returns the following characters.\n",
    "    \"\"\"\n",
    "    if substring in string:\n",
    "        start = string.index(substring) + len(substring)\n",
    "        end = start + numberOfCharacters\n",
    "        return string[start:end]\n",
    "    else:\n",
    "        return False"
   ]
  },
  {
   "cell_type": "code",
   "execution_count": 69,
   "id": "7dffe053-e5a2-4f8e-9593-2b85f7e2346b",
   "metadata": {},
   "outputs": [
    {
     "data": {
      "text/plain": [
       "' 26 989'"
      ]
     },
     "execution_count": 69,
     "metadata": {},
     "output_type": "execute_result"
    }
   ],
   "source": [
    "return_substring(string, substring, 7)"
   ]
  },
  {
   "cell_type": "code",
   "execution_count": null,
   "id": "1586d601-e1f4-4023-b1ea-37ca7919f2c2",
   "metadata": {},
   "outputs": [],
   "source": []
  }
 ],
 "metadata": {
  "kernelspec": {
   "display_name": "Python 3 (ipykernel)",
   "language": "python",
   "name": "python3"
  },
  "language_info": {
   "codemirror_mode": {
    "name": "ipython",
    "version": 3
   },
   "file_extension": ".py",
   "mimetype": "text/x-python",
   "name": "python",
   "nbconvert_exporter": "python",
   "pygments_lexer": "ipython3",
   "version": "3.12.2"
  }
 },
 "nbformat": 4,
 "nbformat_minor": 5
}
